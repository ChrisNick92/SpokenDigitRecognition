{
 "cells": [
  {
   "cell_type": "markdown",
   "metadata": {},
   "source": [
    "# *Recognition of spoken digits using Deep learning frameworks*"
   ]
  },
  {
   "cell_type": "code",
   "execution_count": 1,
   "metadata": {},
   "outputs": [],
   "source": [
    "import utils # We import the utility library that we will use throughout this Notebook"
   ]
  },
  {
   "cell_type": "markdown",
   "metadata": {},
   "source": [
    "### 1. Reading the data"
   ]
  },
  {
   "cell_type": "code",
   "execution_count": null,
   "metadata": {},
   "outputs": [],
   "source": [
    "# Data parser reads the wave forms of the wav files located in digits directory\n",
    "wavs, speakers, digits = utils.data_parser()"
   ]
  },
  {
   "cell_type": "markdown",
   "metadata": {},
   "source": [
    "### 2. Visualizing & Displaying some samples of the dataset"
   ]
  },
  {
   "cell_type": "code",
   "execution_count": null,
   "metadata": {},
   "outputs": [],
   "source": [
    "utils.vis_wave_form(wavs[:4], speakers[:4], digits[:4])"
   ]
  },
  {
   "cell_type": "code",
   "execution_count": null,
   "metadata": {},
   "outputs": [],
   "source": [
    "# Sample 1\n",
    "import IPython.display as ipd \n",
    "import os\n",
    "ipd.Audio(os.path.join(\"digits\", digits[0]+speakers[0] + \".wav\"))"
   ]
  },
  {
   "cell_type": "code",
   "execution_count": null,
   "metadata": {},
   "outputs": [],
   "source": [
    "# Sample 2\n",
    "ipd.Audio(os.path.join(\"digits\", digits[1]+speakers[1]+ \".wav\"))"
   ]
  },
  {
   "cell_type": "code",
   "execution_count": null,
   "metadata": {},
   "outputs": [],
   "source": [
    "# Sample 3\n",
    "ipd.Audio(os.path.join(\"digits\", digits[2]+speakers[2]+ \".wav\"))"
   ]
  },
  {
   "cell_type": "code",
   "execution_count": null,
   "metadata": {},
   "outputs": [],
   "source": [
    "# Sample 4\n",
    "ipd.Audio(os.path.join(\"digits\", digits[3]+speakers[3]+ \".wav\"))"
   ]
  },
  {
   "cell_type": "markdown",
   "metadata": {},
   "source": [
    "### 3. Extracting the MFCCs, deltas and delta-deltas for each audio sample."
   ]
  },
  {
   "cell_type": "code",
   "execution_count": null,
   "metadata": {},
   "outputs": [],
   "source": [
    "mfccs, deltas, ddeltas = utils.extract_mfcss(wavs)"
   ]
  },
  {
   "cell_type": "markdown",
   "metadata": {},
   "source": [
    "### 4. Combining MFCCs, Deltas and Delta-Deltas to create a feature vector - Testing some classic ML Classifiers"
   ]
  },
  {
   "cell_type": "code",
   "execution_count": null,
   "metadata": {},
   "outputs": [],
   "source": [
    "import numpy as np\n",
    "\n",
    "features = np.empty((0,78), dtype = np.float32)\n",
    "\n",
    "for i in range(len(mfccs)):\n",
    "    feature_vector = np.concatenate((mfccs[i], deltas[i], ddeltas[i]), axis = 1)\n",
    "    mean_vector = np.mean(feature_vector, axis = 0)\n",
    "    sd_vector = np.std(feature_vector, axis = 0)\n",
    "    nums = len(mean_vector)\n",
    "    feature_vector = np.resize(np.concatenate((mean_vector, sd_vector), axis =0), (1,2*nums))\n",
    "    features = np.append(features, feature_vector, axis = 0)\n"
   ]
  },
  {
   "cell_type": "code",
   "execution_count": null,
   "metadata": {},
   "outputs": [],
   "source": [
    "# Create a 2D - Scatterplot of the feature vector for each digit\n",
    "\n",
    "import seaborn as sns\n",
    "import pandas as pd\n",
    "import matplotlib.pyplot as plt\n",
    "\n",
    "correspondence = {\"one\":1, \"two\": 2, \"three\": 3, \"four\": 4,\n",
    "\"five\":5, \"six\":6, \"seven\": 7, \"eight\": 8, \"nine\": 9}\n",
    "nums = []\n",
    "for digit in digits:\n",
    "    nums.append(correspondence[digit])\n",
    "\n",
    "data = pd.DataFrame({\"x\": features[:,0], \"y\": features[:,1],\n",
    "                    \"labels\": digits, \"nums\": nums}).sort_values(by = \"nums\")\n",
    "\n",
    "sns.set_style(\"dark\")\n",
    "fig, ax = plt.subplots(figsize = (9,5))\n",
    "\n",
    "sns.scatterplot(data = data, x = \"x\", y = \"y\", hue = \"labels\",\n",
    "ax = ax)\n",
    "ax.set_xlabel(\"Feature 1\")\n",
    "ax.set_ylabel(\"Feature 2\")\n",
    "ax.set_title(\"Visualizing the first two dimensions of features\",fontsize = 15)\n",
    "plt.show()"
   ]
  },
  {
   "cell_type": "code",
   "execution_count": null,
   "metadata": {},
   "outputs": [],
   "source": [
    "# Visualizing using 2D - PCA projection\n",
    "from sklearn.decomposition import PCA\n",
    "\n",
    "pca = PCA(n_components=2)\n",
    "X_new = pca.fit_transform(features)\n",
    "\n",
    "data = pd.DataFrame({\"x\": X_new[:,0], \"y\": X_new[:,1],\n",
    "                    \"labels\": digits, \"nums\": nums}).sort_values(by = \"nums\")\n",
    "\n",
    "sns.set_style(\"dark\")\n",
    "fig, ax = plt.subplots(figsize = (9,5))\n",
    "\n",
    "sns.scatterplot(data = data, x = \"x\", y = \"y\", hue = \"labels\",\n",
    "ax = ax)\n",
    "ax.set_xlabel(\"Principal component 1\")\n",
    "ax.set_ylabel(\"Principal component 2\")\n",
    "ax.set_title(\"Visualizing the data samples using 2D PCA\",fontsize = 15)\n",
    "plt.show()"
   ]
  },
  {
   "cell_type": "markdown",
   "metadata": {},
   "source": [
    "## Part 1. Testing some classic ML Classifiers"
   ]
  },
  {
   "cell_type": "code",
   "execution_count": null,
   "metadata": {},
   "outputs": [],
   "source": [
    "from sklearn.model_selection import train_test_split\n",
    "from sklearn.preprocessing import StandardScaler\n",
    "from sklearn.pipeline import Pipeline\n",
    "\n",
    "labels = nums\n",
    "X = features\n",
    "\n",
    "X_train, X_test, y_train, y_test = train_test_split(\n",
    "    X,labels, test_size = 0.30, random_state = 42\n",
    ")"
   ]
  },
  {
   "cell_type": "markdown",
   "metadata": {},
   "source": [
    "#### 5.1 Naive Bayes"
   ]
  },
  {
   "cell_type": "code",
   "execution_count": null,
   "metadata": {},
   "outputs": [],
   "source": [
    "from sklearn.naive_bayes import GaussianNB\n",
    "\n",
    "gnb = Pipeline([('scaler', StandardScaler()), ('gnb', GaussianNB())])\n",
    "# gnb = GaussianNB()\n",
    "y_preds = gnb.fit(X_train, y_train).predict(X_test)"
   ]
  },
  {
   "cell_type": "code",
   "execution_count": null,
   "metadata": {},
   "outputs": [],
   "source": [
    "from sklearn.metrics import classification_report\n",
    "\n",
    "print(classification_report(y_test,y_preds))"
   ]
  },
  {
   "cell_type": "markdown",
   "metadata": {},
   "source": [
    "#### 5.2 SVM"
   ]
  },
  {
   "cell_type": "code",
   "execution_count": null,
   "metadata": {},
   "outputs": [],
   "source": [
    "from sklearn.pipeline import make_pipeline\n",
    "from sklearn.svm import SVC\n",
    "\n",
    "clf = make_pipeline(StandardScaler(), SVC(gamma='auto'))\n",
    "y_preds = clf.fit(X_train, y_train).predict(X_test)\n",
    "\n",
    "print(classification_report(y_test,y_preds))"
   ]
  },
  {
   "cell_type": "markdown",
   "metadata": {},
   "source": [
    "## Part 2. Deep Learning Models"
   ]
  },
  {
   "cell_type": "code",
   "execution_count": null,
   "metadata": {},
   "outputs": [],
   "source": [
    "dataset = \"recordings\"\n",
    "\n",
    "X_train, X_test, y_train, y_test, spk_train, spk_test = utils.parser(dataset)"
   ]
  },
  {
   "cell_type": "markdown",
   "metadata": {},
   "source": [
    "#### 5.1 LSTM"
   ]
  },
  {
   "cell_type": "code",
   "execution_count": null,
   "metadata": {},
   "outputs": [],
   "source": [
    "from torch.utils.data import DataLoader\n",
    "from utils import collate_pad_zeros"
   ]
  },
  {
   "cell_type": "code",
   "execution_count": null,
   "metadata": {},
   "outputs": [],
   "source": [
    "BATCH_SIZE = 16"
   ]
  },
  {
   "cell_type": "code",
   "execution_count": null,
   "metadata": {},
   "outputs": [],
   "source": [
    "train_dset = utils.custom_dataset(X_train, y_train)\n",
    "train_dloader = DataLoader(train_dset, batch_size = BATCH_SIZE,\n",
    "                            collate_fn=collate_pad_zeros)"
   ]
  }
 ],
 "metadata": {
  "kernelspec": {
   "display_name": "Python 3.10.6 ('venv')",
   "language": "python",
   "name": "python3"
  },
  "language_info": {
   "codemirror_mode": {
    "name": "ipython",
    "version": 3
   },
   "file_extension": ".py",
   "mimetype": "text/x-python",
   "name": "python",
   "nbconvert_exporter": "python",
   "pygments_lexer": "ipython3",
   "version": "3.10.6"
  },
  "orig_nbformat": 4,
  "vscode": {
   "interpreter": {
    "hash": "d46f030594182a139935f6cd312fe95e009e250c7a23cf2b8c3b8cbec309b758"
   }
  }
 },
 "nbformat": 4,
 "nbformat_minor": 2
}
